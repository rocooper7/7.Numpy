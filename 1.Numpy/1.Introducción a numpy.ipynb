{
 "cells": [
  {
   "cell_type": "code",
   "execution_count": 1,
   "metadata": {
    "colab": {},
    "colab_type": "code",
    "id": "6PAic4STiPMS"
   },
   "outputs": [],
   "source": [
    "import numpy as np"
   ]
  },
  {
   "cell_type": "code",
   "execution_count": 2,
   "metadata": {
    "colab": {
     "base_uri": "https://localhost:8080/",
     "height": 34
    },
    "colab_type": "code",
    "executionInfo": {
     "elapsed": 549,
     "status": "ok",
     "timestamp": 1566850037117,
     "user": {
      "displayName": "Yesi Days",
      "photoUrl": "https://lh3.googleusercontent.com/a-/AAuE7mCQ_NbHPfVEbt660uXIuQNohtXqgW7iQekdhigBQg=s64",
      "userId": "11114933843565574323"
     },
     "user_tz": 300
    },
    "id": "aizqxBx2ieJ5",
    "outputId": "465a6982-3477-4640-b030-6d733ee834f3"
   },
   "outputs": [
    {
     "output_type": "execute_result",
     "data": {
      "text/plain": "array([10, 20, 24,  5, 15, 50])"
     },
     "metadata": {},
     "execution_count": 2
    }
   ],
   "source": [
    "np.array([10, 20, 24, 5, 15, 50])        #Es como una serie de pandas o una lista (no son filas, ni columnas)"
   ]
  },
  {
   "cell_type": "code",
   "execution_count": 3,
   "metadata": {
    "colab": {
     "base_uri": "https://localhost:8080/",
     "height": 34
    },
    "colab_type": "code",
    "executionInfo": {
     "elapsed": 518,
     "status": "ok",
     "timestamp": 1566850079963,
     "user": {
      "displayName": "Yesi Days",
      "photoUrl": "https://lh3.googleusercontent.com/a-/AAuE7mCQ_NbHPfVEbt660uXIuQNohtXqgW7iQekdhigBQg=s64",
      "userId": "11114933843565574323"
     },
     "user_tz": 300
    },
    "id": "XpaHWo5OilG9",
    "outputId": "1d53062f-8321-4802-ab25-890dae0915ec"
   },
   "outputs": [
    {
     "output_type": "execute_result",
     "data": {
      "text/plain": "30"
     },
     "metadata": {},
     "execution_count": 3
    }
   ],
   "source": [
    "a = np.array([10, 30, 20, 4, 30, 51, 7, 2, 4, 40, 100])\n",
    "a[4]"
   ]
  },
  {
   "cell_type": "code",
   "execution_count": 4,
   "metadata": {
    "colab": {
     "base_uri": "https://localhost:8080/",
     "height": 34
    },
    "colab_type": "code",
    "executionInfo": {
     "elapsed": 510,
     "status": "ok",
     "timestamp": 1566850114923,
     "user": {
      "displayName": "Yesi Days",
      "photoUrl": "https://lh3.googleusercontent.com/a-/AAuE7mCQ_NbHPfVEbt660uXIuQNohtXqgW7iQekdhigBQg=s64",
      "userId": "11114933843565574323"
     },
     "user_tz": 300
    },
    "id": "j6-ZhC4Giwxy",
    "outputId": "cfcc1772-0d34-487f-e5a3-91646f409202"
   },
   "outputs": [
    {
     "output_type": "execute_result",
     "data": {
      "text/plain": "array([  4,  30,  51,   7,   2,   4,  40, 100])"
     },
     "metadata": {},
     "execution_count": 4
    }
   ],
   "source": [
    "a[3:]"
   ]
  },
  {
   "cell_type": "code",
   "execution_count": 5,
   "metadata": {
    "colab": {
     "base_uri": "https://localhost:8080/",
     "height": 34
    },
    "colab_type": "code",
    "executionInfo": {
     "elapsed": 612,
     "status": "ok",
     "timestamp": 1566850137822,
     "user": {
      "displayName": "Yesi Days",
      "photoUrl": "https://lh3.googleusercontent.com/a-/AAuE7mCQ_NbHPfVEbt660uXIuQNohtXqgW7iQekdhigBQg=s64",
      "userId": "11114933843565574323"
     },
     "user_tz": 300
    },
    "id": "E59NJ7qBi4YI",
    "outputId": "6212d3e8-3a6f-4283-fb32-b3de5e69706d"
   },
   "outputs": [
    {
     "output_type": "execute_result",
     "data": {
      "text/plain": "array([ 4, 30, 51,  7])"
     },
     "metadata": {},
     "execution_count": 5
    }
   ],
   "source": [
    "a[3:7]"
   ]
  },
  {
   "cell_type": "code",
   "execution_count": 6,
   "metadata": {
    "colab": {
     "base_uri": "https://localhost:8080/",
     "height": 34
    },
    "colab_type": "code",
    "executionInfo": {
     "elapsed": 671,
     "status": "ok",
     "timestamp": 1566850167840,
     "user": {
      "displayName": "Yesi Days",
      "photoUrl": "https://lh3.googleusercontent.com/a-/AAuE7mCQ_NbHPfVEbt660uXIuQNohtXqgW7iQekdhigBQg=s64",
      "userId": "11114933843565574323"
     },
     "user_tz": 300
    },
    "id": "FNgCY5J-i-ot",
    "outputId": "821925a2-9899-4f89-cbfb-1ea4f16fb382"
   },
   "outputs": [
    {
     "output_type": "execute_result",
     "data": {
      "text/plain": "array([30, 51, 40])"
     },
     "metadata": {},
     "execution_count": 6
    }
   ],
   "source": [
    "a[1::4]"
   ]
  },
  {
   "cell_type": "code",
   "execution_count": 7,
   "metadata": {
    "colab": {
     "base_uri": "https://localhost:8080/",
     "height": 34
    },
    "colab_type": "code",
    "executionInfo": {
     "elapsed": 633,
     "status": "ok",
     "timestamp": 1566850210604,
     "user": {
      "displayName": "Yesi Days",
      "photoUrl": "https://lh3.googleusercontent.com/a-/AAuE7mCQ_NbHPfVEbt660uXIuQNohtXqgW7iQekdhigBQg=s64",
      "userId": "11114933843565574323"
     },
     "user_tz": 300
    },
    "id": "jxLWKb5QjJbH",
    "outputId": "15edc3f7-77c8-49d7-9406-ded4867defbb"
   },
   "outputs": [
    {
     "output_type": "execute_result",
     "data": {
      "text/plain": "array([0., 0., 0., 0., 0.])"
     },
     "metadata": {},
     "execution_count": 7
    }
   ],
   "source": [
    "np.zeros(5)"
   ]
  },
  {
   "cell_type": "code",
   "execution_count": 10,
   "metadata": {
    "colab": {
     "base_uri": "https://localhost:8080/",
     "height": 86
    },
    "colab_type": "code",
    "executionInfo": {
     "elapsed": 530,
     "status": "ok",
     "timestamp": 1566850233146,
     "user": {
      "displayName": "Yesi Days",
      "photoUrl": "https://lh3.googleusercontent.com/a-/AAuE7mCQ_NbHPfVEbt660uXIuQNohtXqgW7iQekdhigBQg=s64",
      "userId": "11114933843565574323"
     },
     "user_tz": 300
    },
    "id": "z8Id06RAjP6P",
    "outputId": "8acdb212-370b-46d4-f69f-da67b63a3b6d"
   },
   "outputs": [
    {
     "output_type": "execute_result",
     "data": {
      "text/plain": "array([[1., 1., 1., 1., 1.],\n       [1., 1., 1., 1., 1.],\n       [1., 1., 1., 1., 1.],\n       [1., 1., 1., 1., 1.]])"
     },
     "metadata": {},
     "execution_count": 10
    }
   ],
   "source": [
    "ones = np.ones((4, 5))\n",
    "ones"
   ]
  },
  {
   "cell_type": "code",
   "execution_count": 11,
   "metadata": {
    "colab": {
     "base_uri": "https://localhost:8080/",
     "height": 34
    },
    "colab_type": "code",
    "executionInfo": {
     "elapsed": 500,
     "status": "ok",
     "timestamp": 1566850528170,
     "user": {
      "displayName": "Yesi Days",
      "photoUrl": "https://lh3.googleusercontent.com/a-/AAuE7mCQ_NbHPfVEbt660uXIuQNohtXqgW7iQekdhigBQg=s64",
      "userId": "11114933843565574323"
     },
     "user_tz": 300
    },
    "id": "OO-0lZEXjVVY",
    "outputId": "07a70244-d6c4-42cd-c9c6-a16d2dcc0e55"
   },
   "outputs": [
    {
     "output_type": "execute_result",
     "data": {
      "text/plain": "numpy.ndarray"
     },
     "metadata": {},
     "execution_count": 11
    }
   ],
   "source": [
    "type(ones)"
   ]
  },
  {
   "cell_type": "code",
   "execution_count": 12,
   "metadata": {
    "colab": {
     "base_uri": "https://localhost:8080/",
     "height": 34
    },
    "colab_type": "code",
    "executionInfo": {
     "elapsed": 489,
     "status": "ok",
     "timestamp": 1566850718256,
     "user": {
      "displayName": "Yesi Days",
      "photoUrl": "https://lh3.googleusercontent.com/a-/AAuE7mCQ_NbHPfVEbt660uXIuQNohtXqgW7iQekdhigBQg=s64",
      "userId": "11114933843565574323"
     },
     "user_tz": 300
    },
    "id": "qY_aUNKClGiO",
    "outputId": "13a92ed0-6d1d-4a49-b0f6-661a56c5e067"
   },
   "outputs": [
    {
     "output_type": "execute_result",
     "data": {
      "text/plain": "numpy.ndarray"
     },
     "metadata": {},
     "execution_count": 12
    }
   ],
   "source": [
    "type(ones[3])"
   ]
  },
  {
   "cell_type": "code",
   "execution_count": 13,
   "metadata": {
    "colab": {
     "base_uri": "https://localhost:8080/",
     "height": 34
    },
    "colab_type": "code",
    "executionInfo": {
     "elapsed": 500,
     "status": "ok",
     "timestamp": 1566850771276,
     "user": {
      "displayName": "Yesi Days",
      "photoUrl": "https://lh3.googleusercontent.com/a-/AAuE7mCQ_NbHPfVEbt660uXIuQNohtXqgW7iQekdhigBQg=s64",
      "userId": "11114933843565574323"
     },
     "user_tz": 300
    },
    "id": "9qMrK2bflMdb",
    "outputId": "b4a88d7a-09ea-4e80-cfbf-fac1c2de343c"
   },
   "outputs": [
    {
     "output_type": "execute_result",
     "data": {
      "text/plain": "array([ 3.  ,  4.75,  6.5 ,  8.25, 10.  ])"
     },
     "metadata": {},
     "execution_count": 13
    }
   ],
   "source": [
    "np.linspace(3, 10, 5)"
   ]
  },
  {
   "cell_type": "code",
   "execution_count": 14,
   "metadata": {
    "colab": {
     "base_uri": "https://localhost:8080/",
     "height": 68
    },
    "colab_type": "code",
    "executionInfo": {
     "elapsed": 483,
     "status": "ok",
     "timestamp": 1566850826584,
     "user": {
      "displayName": "Yesi Days",
      "photoUrl": "https://lh3.googleusercontent.com/a-/AAuE7mCQ_NbHPfVEbt660uXIuQNohtXqgW7iQekdhigBQg=s64",
      "userId": "11114933843565574323"
     },
     "user_tz": 300
    },
    "id": "wUAL__LDlaoy",
    "outputId": "2479c551-e248-4376-c8e0-1d5b941d71df",
    "tags": []
   },
   "outputs": [
    {
     "output_type": "stream",
     "name": "stdout",
     "text": "[[&#39;x&#39; &#39;y&#39; &#39;z&#39;]\n [&#39;a&#39; &#39;c&#39; &#39;e&#39;]]\n"
    },
    {
     "output_type": "execute_result",
     "data": {
      "text/plain": "numpy.ndarray"
     },
     "metadata": {},
     "execution_count": 14
    }
   ],
   "source": [
    "b = np.array( [['x', 'y', 'z'], ['a', 'c', 'e']])      #Exactamente como un dataframe de pandas (filas (x,y,z)y columnas(x,a)) \n",
    "print(b)\n",
    "type(b)"
   ]
  },
  {
   "cell_type": "code",
   "execution_count": 15,
   "metadata": {
    "colab": {
     "base_uri": "https://localhost:8080/",
     "height": 34
    },
    "colab_type": "code",
    "executionInfo": {
     "elapsed": 577,
     "status": "ok",
     "timestamp": 1566850848414,
     "user": {
      "displayName": "Yesi Days",
      "photoUrl": "https://lh3.googleusercontent.com/a-/AAuE7mCQ_NbHPfVEbt660uXIuQNohtXqgW7iQekdhigBQg=s64",
      "userId": "11114933843565574323"
     },
     "user_tz": 300
    },
    "id": "QkkoY5DFlnYQ",
    "outputId": "8ca2489f-8ead-4e89-b20b-552fb7f8d101"
   },
   "outputs": [
    {
     "output_type": "execute_result",
     "data": {
      "text/plain": "2"
     },
     "metadata": {},
     "execution_count": 15
    }
   ],
   "source": [
    "b.ndim"
   ]
  },
  {
   "cell_type": "code",
   "execution_count": 16,
   "metadata": {
    "colab": {
     "base_uri": "https://localhost:8080/",
     "height": 34
    },
    "colab_type": "code",
    "executionInfo": {
     "elapsed": 482,
     "status": "ok",
     "timestamp": 1566850879467,
     "user": {
      "displayName": "Yesi Days",
      "photoUrl": "https://lh3.googleusercontent.com/a-/AAuE7mCQ_NbHPfVEbt660uXIuQNohtXqgW7iQekdhigBQg=s64",
      "userId": "11114933843565574323"
     },
     "user_tz": 300
    },
    "id": "v2Hauu4dlqlT",
    "outputId": "c9b62c34-c927-4366-e10f-d9a0d594aa91"
   },
   "outputs": [
    {
     "output_type": "execute_result",
     "data": {
      "text/plain": "array([ 2,  4, 10, 12, 40])"
     },
     "metadata": {},
     "execution_count": 16
    }
   ],
   "source": [
    "c = [12, 4, 10, 40, 2]\n",
    "np.sort(c)"
   ]
  },
  {
   "cell_type": "code",
   "execution_count": 17,
   "metadata": {
    "colab": {
     "base_uri": "https://localhost:8080/",
     "height": 51
    },
    "colab_type": "code",
    "executionInfo": {
     "elapsed": 494,
     "status": "ok",
     "timestamp": 1566851341570,
     "user": {
      "displayName": "Yesi Days",
      "photoUrl": "https://lh3.googleusercontent.com/a-/AAuE7mCQ_NbHPfVEbt660uXIuQNohtXqgW7iQekdhigBQg=s64",
      "userId": "11114933843565574323"
     },
     "user_tz": 300
    },
    "id": "cH3EwvWLly_4",
    "outputId": "53292d73-4131-48f6-c967-3a9ccfe6dc32"
   },
   "outputs": [
    {
     "output_type": "execute_result",
     "data": {
      "text/plain": "array([(b&#39;Juan&#39;, 10), (b&#39;Samuel&#39;, 15), (b&#39;Javier&#39;, 42), (b&#39;Maria&#39;, 70)],\n      dtype=[(&#39;nombre&#39;, &#39;S10&#39;), (&#39;edad&#39;, &#39;&lt;i4&#39;)])"
     },
     "metadata": {},
     "execution_count": 17
    }
   ],
   "source": [
    "cabeceras = [ ('nombre', 'S10' ), ('edad', int) ]\n",
    "datos = [ ('Juan', 10), ('Maria', 70), ('Javier', 42), ('Samuel', 15) ]\n",
    "usuarios = np.array(datos, dtype = cabeceras)\n",
    "\n",
    "np.sort(usuarios, order = 'edad' )\n"
   ]
  },
  {
   "cell_type": "code",
   "execution_count": 18,
   "metadata": {
    "colab": {
     "base_uri": "https://localhost:8080/",
     "height": 51
    },
    "colab_type": "code",
    "executionInfo": {
     "elapsed": 506,
     "status": "ok",
     "timestamp": 1566851368227,
     "user": {
      "displayName": "Yesi Days",
      "photoUrl": "https://lh3.googleusercontent.com/a-/AAuE7mCQ_NbHPfVEbt660uXIuQNohtXqgW7iQekdhigBQg=s64",
      "userId": "11114933843565574323"
     },
     "user_tz": 300
    },
    "id": "u2VXR1kUnle4",
    "outputId": "ec5cf4fb-3a07-452a-f955-dfffce97e7a4"
   },
   "outputs": [
    {
     "output_type": "execute_result",
     "data": {
      "text/plain": "array([ 0,  1,  2,  3,  4,  5,  6,  7,  8,  9, 10, 11, 12, 13, 14, 15, 16,\n       17, 18, 19, 20, 21, 22, 23, 24])"
     },
     "metadata": {},
     "execution_count": 18
    }
   ],
   "source": [
    "np.arange(25)"
   ]
  },
  {
   "cell_type": "code",
   "execution_count": 19,
   "metadata": {
    "colab": {
     "base_uri": "https://localhost:8080/",
     "height": 51
    },
    "colab_type": "code",
    "executionInfo": {
     "elapsed": 758,
     "status": "ok",
     "timestamp": 1566851381465,
     "user": {
      "displayName": "Yesi Days",
      "photoUrl": "https://lh3.googleusercontent.com/a-/AAuE7mCQ_NbHPfVEbt660uXIuQNohtXqgW7iQekdhigBQg=s64",
      "userId": "11114933843565574323"
     },
     "user_tz": 300
    },
    "id": "ql8Rz5Xynpww",
    "outputId": "14a7d2cc-513f-4095-f88f-5c0947990562"
   },
   "outputs": [
    {
     "output_type": "execute_result",
     "data": {
      "text/plain": "array([ 5,  6,  7,  8,  9, 10, 11, 12, 13, 14, 15, 16, 17, 18, 19, 20, 21,\n       22, 23, 24, 25, 26, 27, 28, 29])"
     },
     "metadata": {},
     "execution_count": 19
    }
   ],
   "source": [
    "np.arange(5,30)"
   ]
  },
  {
   "cell_type": "code",
   "execution_count": 20,
   "metadata": {
    "colab": {
     "base_uri": "https://localhost:8080/",
     "height": 34
    },
    "colab_type": "code",
    "executionInfo": {
     "elapsed": 471,
     "status": "ok",
     "timestamp": 1566851403330,
     "user": {
      "displayName": "Yesi Days",
      "photoUrl": "https://lh3.googleusercontent.com/a-/AAuE7mCQ_NbHPfVEbt660uXIuQNohtXqgW7iQekdhigBQg=s64",
      "userId": "11114933843565574323"
     },
     "user_tz": 300
    },
    "id": "oPjf2wMentaf",
    "outputId": "d64169e8-a4eb-47ae-fa33-a430f33309b4"
   },
   "outputs": [
    {
     "output_type": "execute_result",
     "data": {
      "text/plain": "array([ 5, 10, 15, 20, 25, 30, 35, 40, 45])"
     },
     "metadata": {},
     "execution_count": 20
    }
   ],
   "source": [
    "np.arange(5, 50, 5)"
   ]
  },
  {
   "cell_type": "code",
   "execution_count": 21,
   "metadata": {
    "colab": {
     "base_uri": "https://localhost:8080/",
     "height": 68
    },
    "colab_type": "code",
    "executionInfo": {
     "elapsed": 463,
     "status": "ok",
     "timestamp": 1566851430403,
     "user": {
      "displayName": "Yesi Days",
      "photoUrl": "https://lh3.googleusercontent.com/a-/AAuE7mCQ_NbHPfVEbt660uXIuQNohtXqgW7iQekdhigBQg=s64",
      "userId": "11114933843565574323"
     },
     "user_tz": 300
    },
    "id": "NL6oWaQWnz7r",
    "outputId": "085a8efb-a23d-4072-a08c-49e3bae6f8b4"
   },
   "outputs": [
    {
     "output_type": "execute_result",
     "data": {
      "text/plain": "array([[10, 10, 10, 10, 10],\n       [10, 10, 10, 10, 10],\n       [10, 10, 10, 10, 10]])"
     },
     "metadata": {},
     "execution_count": 21
    }
   ],
   "source": [
    "np.full( ( 3, 5 ), 10)"
   ]
  },
  {
   "cell_type": "code",
   "execution_count": 22,
   "metadata": {
    "colab": {
     "base_uri": "https://localhost:8080/",
     "height": 86
    },
    "colab_type": "code",
    "executionInfo": {
     "elapsed": 491,
     "status": "ok",
     "timestamp": 1566851455711,
     "user": {
      "displayName": "Yesi Days",
      "photoUrl": "https://lh3.googleusercontent.com/a-/AAuE7mCQ_NbHPfVEbt660uXIuQNohtXqgW7iQekdhigBQg=s64",
      "userId": "11114933843565574323"
     },
     "user_tz": 300
    },
    "id": "43LOkTF2n4Z3",
    "outputId": "d579351c-dd60-4b54-9b21-638bec49607a"
   },
   "outputs": [
    {
     "output_type": "execute_result",
     "data": {
      "text/plain": "array([[ 0,  0,  0,  0],\n       [ 0,  3,  0,  0],\n       [ 0,  0,  9,  0],\n       [ 0,  0,  0, 10]])"
     },
     "metadata": {},
     "execution_count": 22
    }
   ],
   "source": [
    "np.diag ( [0, 3, 9, 10] )"
   ]
  },
  {
   "source": [
    "## Random Enteros "
   ],
   "cell_type": "markdown",
   "metadata": {}
  },
  {
   "cell_type": "code",
   "execution_count": 23,
   "metadata": {},
   "outputs": [
    {
     "output_type": "execute_result",
     "data": {
      "text/plain": "25"
     },
     "metadata": {},
     "execution_count": 23
    }
   ],
   "source": [
    "np.random.randint(100)"
   ]
  },
  {
   "cell_type": "code",
   "execution_count": 31,
   "metadata": {},
   "outputs": [
    {
     "output_type": "execute_result",
     "data": {
      "text/plain": "array([54,  6, 32, 43, 86, 18,  3, 27,  9, 53])"
     },
     "metadata": {},
     "execution_count": 31
    }
   ],
   "source": [
    "np.random.randint(1,100,10)    #Dos primeros numeros num aleatorios, el tercero el rango "
   ]
  },
  {
   "cell_type": "code",
   "execution_count": 24,
   "metadata": {},
   "outputs": [
    {
     "output_type": "execute_result",
     "data": {
      "text/plain": "array([21, 49, 68, 72, 39])"
     },
     "metadata": {},
     "execution_count": 24
    }
   ],
   "source": [
    "np.random.randint(100, size=(5))"
   ]
  },
  {
   "cell_type": "code",
   "execution_count": 25,
   "metadata": {},
   "outputs": [
    {
     "output_type": "execute_result",
     "data": {
      "text/plain": "array([[ 3, 69, 58, 25, 26],\n       [33,  9, 65, 99, 44],\n       [93, 28, 35, 87, 84]])"
     },
     "metadata": {},
     "execution_count": 25
    }
   ],
   "source": [
    "np.random.randint(100, size=(3, 5))"
   ]
  },
  {
   "source": [
    "## Random Floats"
   ],
   "cell_type": "markdown",
   "metadata": {}
  },
  {
   "cell_type": "code",
   "execution_count": 26,
   "metadata": {},
   "outputs": [
    {
     "output_type": "execute_result",
     "data": {
      "text/plain": "0.5328435047902437"
     },
     "metadata": {},
     "execution_count": 26
    }
   ],
   "source": [
    "np.random.rand()    #random = rand"
   ]
  },
  {
   "cell_type": "code",
   "execution_count": 27,
   "metadata": {},
   "outputs": [
    {
     "output_type": "execute_result",
     "data": {
      "text/plain": "array([0.72712045, 0.1008667 , 0.4675457 , 0.20901186, 0.41714802])"
     },
     "metadata": {},
     "execution_count": 27
    }
   ],
   "source": [
    "np.random.rand(5)"
   ]
  },
  {
   "cell_type": "code",
   "execution_count": 28,
   "metadata": {},
   "outputs": [
    {
     "output_type": "execute_result",
     "data": {
      "text/plain": "array([[0.44673503, 0.44746424, 0.82098055, 0.2874032 , 0.43279008],\n       [0.02775599, 0.11751806, 0.12457382, 0.48128661, 0.91817697],\n       [0.16424881, 0.92437796, 0.92788083, 0.98568827, 0.75893974]])"
     },
     "metadata": {},
     "execution_count": 28
    }
   ],
   "source": [
    "np.random.rand(3, 5)"
   ]
  },
  {
   "source": [
    "## Choice"
   ],
   "cell_type": "markdown",
   "metadata": {}
  },
  {
   "cell_type": "code",
   "execution_count": 29,
   "metadata": {},
   "outputs": [
    {
     "output_type": "execute_result",
     "data": {
      "text/plain": "3"
     },
     "metadata": {},
     "execution_count": 29
    }
   ],
   "source": [
    "np.random.choice([3, 5, 7, 9])"
   ]
  },
  {
   "cell_type": "code",
   "execution_count": 30,
   "metadata": {},
   "outputs": [
    {
     "output_type": "execute_result",
     "data": {
      "text/plain": "array([[3, 9, 9, 5, 7],\n       [3, 3, 7, 5, 7],\n       [3, 5, 9, 5, 9]])"
     },
     "metadata": {},
     "execution_count": 30
    }
   ],
   "source": [
    "np.random.choice([3, 5, 7, 9], size=(3, 5))"
   ]
  }
 ],
 "metadata": {
  "colab": {
   "collapsed_sections": [],
   "name": "introducción a numpy.ipynb",
   "provenance": []
  },
  "kernelspec": {
   "name": "Python 3.8.3 64-bit ('Anaconda': conda)",
   "display_name": "Python 3.8.3 64-bit ('Anaconda': conda)",
   "metadata": {
    "interpreter": {
     "hash": "ed225720166559e7176d3793db16a2fd8d295f725007103b21ac3099d2a89ee8"
    }
   }
  },
  "language_info": {
   "codemirror_mode": {
    "name": "ipython",
    "version": 3
   },
   "file_extension": ".py",
   "mimetype": "text/x-python",
   "name": "python",
   "nbconvert_exporter": "python",
   "pygments_lexer": "ipython3",
   "version": "3.8.3-final"
  }
 },
 "nbformat": 4,
 "nbformat_minor": 1
}